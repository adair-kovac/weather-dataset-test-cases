{
 "cells": [
  {
   "cell_type": "markdown",
   "id": "6519dc9b-095a-4bd7-9595-63a74be776a2",
   "metadata": {},
   "source": [
    "We test our test cases against the [CESM-LENS Zarr archive on AWS](https://ncar.github.io/cesm-lens-aws/)."
   ]
  },
  {
   "cell_type": "markdown",
   "id": "9bd0ce21-5bc9-4818-a782-cad9d01750e7",
   "metadata": {},
   "source": [
    "## Step 1 - Analyze the test case needs\n",
    "\n",
    "### Data properties\n",
    "\n",
    "- Dimensions: \n",
    "  - These include the expected geospatial and time dimensions, but no forecast time. \n",
    "      - Some but not all variables have a vertical level dimension. We'll ignore that for simplicity.\n",
    "      - Different time ranges are in different files. We'll have to concatenate along them.\n",
    "  - Additional dimensions are frequency and experiment. \n",
    "      - We'll want to make sure we can combine data from different experiments into one datacube, and perform calculations such as averages across them. \n",
    "      - We'll ignore the \"frequency\" variable and just look at daily datasets.\n",
    "- Datasets: \n",
    "    - Model runs in this case correspond to different experiments (e.g. assumed conditions, time ranges, earth system components included), not different hours like in the forecast datasets. \n",
    "    - Different variables are in different datasets.\n",
    "- Unknowns:\n",
    "    - As I'm writing this, I don't know whether all experiments use the same/compatible grids. We'll figure that out if it turns out to be difficult to merge datasets.\n",
    "\n",
    "### Prototype Cases\n",
    "\n",
    "For our prototype case, we'll consider one experiment during one time range. \n",
    "\n",
    "- Basic data access:\n",
    "    - Listing the available variables\n",
    "    - One variable at a single time at:\n",
    "        - One gridpoint\n",
    "        - A region\n",
    "        - The whole grid\n",
    "    - The whole data cube (including time dimension)\n",
    "        - Combining data cubes from 2 variables\n",
    "        \n",
    "- Whole use cases:\n",
    "    - We'll plot a time series of the data at a gridpoint\n",
    "    - We'll calculate the spatial average of the variable at a given time\n",
    "    - We'll make a map of a variable across the grid at a single time\n",
    "    - We'll make a map of the maximum (over time) of the variable\n",
    "    \n",
    "### Intermediate Cases\n",
    "\n",
    "- Basic data access:\n",
    "    - We'll repeat the prototype access but combining data from multiple experiments and time ranges\n",
    "- Aggregation:\n",
    "    - We'll plot time series from each experiment side-by-side\n",
    "    - We'll make a map of the variable averaged over multiple experiments that overlap in time range\n",
    "    - We'll subtract the time-average of one experiment from another during an overlapping time range and map that\n",
    "- Comparison:\n",
    "    - We'll compare a prediction for a recent month at a gridpoint near SLC to the actual data from the HRRR\n",
    "    \n",
    "### Final Cases\n",
    "\n",
    "We'll do a simple smoke test to see that there is a file for every variable and time range that there should be for each experiment. (We'd want to do more if this was \"real\", of course.)"
   ]
  },
  {
   "cell_type": "code",
   "execution_count": null,
   "id": "5e1416b4-51e9-4c55-80e7-e4e63ff68f9d",
   "metadata": {},
   "outputs": [],
   "source": []
  }
 ],
 "metadata": {
  "kernelspec": {
   "display_name": "gefs",
   "language": "python",
   "name": "gefs"
  },
  "language_info": {
   "codemirror_mode": {
    "name": "ipython",
    "version": 3
   },
   "file_extension": ".py",
   "mimetype": "text/x-python",
   "name": "python",
   "nbconvert_exporter": "python",
   "pygments_lexer": "ipython3",
   "version": "3.9.6"
  }
 },
 "nbformat": 4,
 "nbformat_minor": 5
}
